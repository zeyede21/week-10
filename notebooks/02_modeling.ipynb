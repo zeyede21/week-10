{
 "cells": [
  {
   "cell_type": "code",
   "execution_count": 1,
   "id": "64df8415-3458-4868-b4a1-0e35812e00b9",
   "metadata": {},
   "outputs": [
    {
     "name": "stdout",
     "output_type": "stream",
     "text": [
      "Current sys.path:\n",
      "C:\\Program Files\\WindowsApps\\PythonSoftwareFoundation.Python.3.12_3.12.2800.0_x64__qbz5n2kfra8p0\\python312.zip\n",
      "C:\\Program Files\\WindowsApps\\PythonSoftwareFoundation.Python.3.12_3.12.2800.0_x64__qbz5n2kfra8p0\\DLLs\n",
      "C:\\Program Files\\WindowsApps\\PythonSoftwareFoundation.Python.3.12_3.12.2800.0_x64__qbz5n2kfra8p0\\Lib\n",
      "C:\\Program Files\\WindowsApps\\PythonSoftwareFoundation.Python.3.12_3.12.2800.0_x64__qbz5n2kfra8p0\n",
      "D:\\10Academy1\\week-10\\week-10\n",
      "\n",
      "D:\\10Academy1\\week-10\\week-10\\Lib\\site-packages\n",
      "D:\\10Academy1\\week-10\\week-10\\Lib\\site-packages\\win32\n",
      "D:\\10Academy1\\week-10\\week-10\\Lib\\site-packages\\win32\\lib\n",
      "D:\\10Academy1\\week-10\\week-10\\Lib\\site-packages\\Pythonwin\n",
      "D:\\10Academy1\\week-10\\src\n",
      "Error: No module named 'pymc3'\n"
     ]
    },
    {
     "ename": "ModuleNotFoundError",
     "evalue": "No module named 'pymc3'",
     "output_type": "error",
     "traceback": [
      "\u001b[31m---------------------------------------------------------------------------\u001b[39m",
      "\u001b[31mModuleNotFoundError\u001b[39m                       Traceback (most recent call last)",
      "\u001b[36mCell\u001b[39m\u001b[36m \u001b[39m\u001b[32mIn[1]\u001b[39m\u001b[32m, line 20\u001b[39m\n\u001b[32m     17\u001b[39m \u001b[38;5;28;01mexcept\u001b[39;00m \u001b[38;5;167;01mModuleNotFoundError\u001b[39;00m \u001b[38;5;28;01mas\u001b[39;00m e:\n\u001b[32m     18\u001b[39m     \u001b[38;5;28mprint\u001b[39m(\u001b[33mf\u001b[39m\u001b[33m\"\u001b[39m\u001b[33mError: \u001b[39m\u001b[38;5;132;01m{\u001b[39;00me\u001b[38;5;132;01m}\u001b[39;00m\u001b[33m\"\u001b[39m)\n\u001b[32m---> \u001b[39m\u001b[32m20\u001b[39m \u001b[38;5;28;01mimport\u001b[39;00m\u001b[38;5;250m \u001b[39m\u001b[34;01mpymc3\u001b[39;00m\u001b[38;5;250m \u001b[39m\u001b[38;5;28;01mas\u001b[39;00m\u001b[38;5;250m \u001b[39m\u001b[34;01mpm\u001b[39;00m\n\u001b[32m     21\u001b[39m \u001b[38;5;28;01mimport\u001b[39;00m\u001b[38;5;250m \u001b[39m\u001b[34;01mmatplotlib\u001b[39;00m\u001b[34;01m.\u001b[39;00m\u001b[34;01mpyplot\u001b[39;00m\u001b[38;5;250m \u001b[39m\u001b[38;5;28;01mas\u001b[39;00m\u001b[38;5;250m \u001b[39m\u001b[34;01mplt\u001b[39;00m\n\u001b[32m     23\u001b[39m \u001b[38;5;66;03m# Load and prepare data\u001b[39;00m\n",
      "\u001b[31mModuleNotFoundError\u001b[39m: No module named 'pymc3'"
     ]
    }
   ],
   "source": [
    "import sys\n",
    "import os\n",
    "\n",
    "# Specify the path to the src directory directly\n",
    "src_dir = os.path.abspath(os.path.join(\"..\", \"src\"))  # Adjust this path as needed\n",
    "sys.path.append(src_dir)  # Add the src directory to the path\n",
    "\n",
    "# Debug: Print the current sys.path for verification\n",
    "print(\"Current sys.path:\")\n",
    "for path in sys.path:\n",
    "    print(path)\n",
    "\n",
    "# Import necessary modules\n",
    "try:\n",
    "    from data_loader import load_brent_data, compute_log_returns\n",
    "    from change_point_model import build_change_point_model\n",
    "except ModuleNotFoundError as e:\n",
    "    print(f\"Error: {e}\")\n",
    "\n",
    "import pymc3 as pm\n",
    "import matplotlib.pyplot as plt\n",
    "\n",
    "# Load and prepare data\n",
    "df = load_brent_data(\"../data/raw/BrentOilPrices.csv\")\n",
    "df = compute_log_returns(df)\n",
    "returns = df[\"Log_Returns\"].values\n",
    "\n",
    "# Build and sample model\n",
    "model = build_change_point_model(returns)\n",
    "\n",
    "with model:\n",
    "    trace = pm.sample(2000, tune=1000, target_accept=0.9)\n",
    "\n",
    "# Plot results\n",
    "pm.plot_trace(trace, var_names=[\"mu_1\", \"mu_2\", \"tau\", \"sigma\"])\n",
    "plt.show()\n",
    "\n",
    "# Print summary of the trace\n",
    "summary = pm.summary(trace, var_names=[\"mu_1\", \"mu_2\", \"tau\", \"sigma\"])\n",
    "print(summary)"
   ]
  },
  {
   "cell_type": "code",
   "execution_count": null,
   "id": "9c139ad4-f0eb-4dec-819a-3d5c677e8ed4",
   "metadata": {},
   "outputs": [],
   "source": []
  }
 ],
 "metadata": {
  "kernelspec": {
   "display_name": "week-10",
   "language": "python",
   "name": "week-10"
  },
  "language_info": {
   "codemirror_mode": {
    "name": "ipython",
    "version": 3
   },
   "file_extension": ".py",
   "mimetype": "text/x-python",
   "name": "python",
   "nbconvert_exporter": "python",
   "pygments_lexer": "ipython3",
   "version": "3.12.10"
  }
 },
 "nbformat": 4,
 "nbformat_minor": 5
}
